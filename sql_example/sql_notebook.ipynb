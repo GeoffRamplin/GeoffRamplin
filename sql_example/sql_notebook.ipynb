{
 "cells": [
  {
   "cell_type": "markdown",
   "metadata": {},
   "source": [
    "# SQL Notebook Example\n",
    " - This notebook will go through an example of creating a database from scratch using MySQL in Python\n",
    " - Once created, some example data will be passed into the database\n",
    " - Finally, the database will be imported into pandas and an example chart made using MatPlotLib"
   ]
  },
  {
   "cell_type": "markdown",
   "metadata": {},
   "source": [
    "## Import Packages"
   ]
  },
  {
   "cell_type": "code",
   "execution_count": null,
   "metadata": {},
   "outputs": [],
   "source": [
    "import pandas as pd\n",
    "import mysql.connector\n",
    "import matplotlib.pyplot as plt\n",
    "import seaborn as sns"
   ]
  },
  {
   "cell_type": "markdown",
   "metadata": {},
   "source": [
    "Connect to a new database using MySQL"
   ]
  },
  {
   "cell_type": "code",
   "execution_count": null,
   "metadata": {},
   "outputs": [],
   "source": [
    "database = mysql.connector.connect(\n",
    "    host=\"localhost\",\n",
    "    user=\"sqluser\",\n",
    "    password=\"password\",\n",
    "    database=\"customershoppingexample\"\n",
    ")\n",
    "\n",
    "cursor = database.cursor()"
   ]
  },
  {
   "cell_type": "markdown",
   "metadata": {},
   "source": [
    "Create the initial table"
   ]
  },
  {
   "cell_type": "code",
   "execution_count": null,
   "metadata": {},
   "outputs": [],
   "source": [
    "createTable1 = \"\"\"CREATE TABLE customers (customerID INT AUTO_INCREMENT PRIMARY KEY, fisrtName VARCHAR(255), lastName VARCHAR(255))\"\"\"\n",
    "createTable2 = \"\"\"CREATE TABLE products (departmentName VARCHAR(255), productID INT UNIQUE, productName VARCHAR(255), stockAmount INT, unitPrice INT)\"\"\"\n",
    "createTable3 = \"\"\"CREATE TABLE orders (orderNumber INT AUTO_INCREMENT PRIMARY KEY, orderValue INT)\"\"\"\n",
    "\n",
    "cursor.execute(createTable1)\n",
    "cursor.execute(createTable2)\n",
    "cursor.execute(createTable3)"
   ]
  },
  {
   "cell_type": "markdown",
   "metadata": {},
   "source": [
    "Making some alterations to the tables"
   ]
  },
  {
   "cell_type": "code",
   "execution_count": null,
   "metadata": {},
   "outputs": [],
   "source": [
    "alter1 = \"ALTER TABLE orders ADD customerID INT\"\n",
    "link1 = \"ALTER TABLE orders ADD FOREIGN KEY (customerID) REFERENCES customers(customerID)\"\n",
    "alter2 = \"ALTER TABLE orders ADD productID INT\"\n",
    "alter3 = \"ALTER TABLE orders ADD quantity INT\"\n",
    "alter4 = \"ALTER TABLE products ADD PRIMARY KEY (productID)\"\n",
    "link2 = \"ALTER TABLE orders ADD FOREIGN KEY (productID) REFERENCES products(productID)\"\n",
    "\n",
    "cursor.execute(alter1)\n",
    "cursor.execute(link1)\n",
    "cursor.execute(alter2)\n",
    "cursor.execute(alter3)\n",
    "cursor.execute(alter4)\n",
    "cursor.execute(link2)"
   ]
  },
  {
   "cell_type": "markdown",
   "metadata": {},
   "source": [
    "Fill the database with examples and commit the database"
   ]
  },
  {
   "cell_type": "code",
   "execution_count": null,
   "metadata": {},
   "outputs": [],
   "source": [
    "customerFill = \"INSERT INTO customers (fisrtName, lastName) VALUES (%s, %s)\"\n",
    "c1 = (\"Sarah\", \"Smith\")\n",
    "c2 = (\"Lily\", \"Graham\")\n",
    "c3 = (\"Mark\", \"Hamal\")\n",
    "c4 = (\"Darth\", \"Vadar\")\n",
    "c5 = (\"Luke\", \"Skywalker\")\n",
    "\n",
    "productFill = \"INSERT INTO products (departmentName, productID, productName, stockAmount, unitPrice) VALUES (%s, %s, %s, %s, %s)\"\n",
    "p1 = (\"Kitchen\", \"0001\", \"Pan\", \"100\", \"10.99\")\n",
    "p2 = (\"Kitchen\", \"0002\", \"Pot\", \"100\", \"20.00\")\n",
    "p3 = (\"Kitchen\", \"0003\", \"Slice No More Knife\", \"100\", \"5.50\")\n",
    "p4 = (\"Bedroom\", \"0004\", \"Duvet\", \"25\", \"49.99\")\n",
    "p5 = (\"Living Room\", \"0005\", \"Lamp\", \"120\", \"35.99\")\n",
    "\n",
    "orderFill = \"INSERT INTO orders (customerID, orderValue, productID, quantity) VALUES (%s, %s, %s, %s)\"\n",
    "o1 = (\"4\", \"20.00\", \"0002\", \"1\")\n",
    "o2 = (\"3\", \"5.50\", \"0003\", \"1\")\n",
    "o3 = (\"2\", \"99.98\", \"0004\", \"2\")\n",
    "o4 = (\"4\", \"35.99\", \"0005\", \"1\")\n",
    "o5 = (\"5\", \"20.00\", \"0002\", \"1\")\n",
    "\n",
    "cursor.execute(customerFill, c1)\n",
    "cursor.execute(customerFill, c2)\n",
    "cursor.execute(customerFill, c3)\n",
    "cursor.execute(customerFill, c4)\n",
    "cursor.execute(customerFill, c5)\n",
    "cursor.execute(productFill, p1)\n",
    "cursor.execute(productFill, p2)\n",
    "cursor.execute(productFill, p3)\n",
    "cursor.execute(productFill, p4)\n",
    "cursor.execute(productFill, p5)\n",
    "cursor.execute(orderFill, o1)\n",
    "cursor.execute(orderFill, o2)\n",
    "cursor.execute(orderFill, o3)\n",
    "cursor.execute(orderFill, o4)\n",
    "cursor.execute(orderFill, o5)\n",
    "\n",
    "database.commit()\n"
   ]
  },
  {
   "cell_type": "markdown",
   "metadata": {},
   "source": [
    "Read the database in pandas"
   ]
  },
  {
   "cell_type": "code",
   "execution_count": null,
   "metadata": {},
   "outputs": [],
   "source": [
    "cursor.execute('SELECT * FROM products')\n",
    "products_df = pd.DataFrame(cursor.fetchall(), columns=[\"department_name\", \"productID\", \"product_name\", \"stock_amount\", \"unit_price\"])\n",
    "\n",
    "cursor.execute('SELECT * FROM orders')\n",
    "orders_df = pd.DataFrame(cursor.fetchall(), columns=[\"order_number\", \"order_value\", \"customerID\", \"productID\", \"quantity\"])\n",
    "\n",
    "cursor.execute('SELECT * FROM customers')\n",
    "customers_df = pd.DataFrame(cursor.fetchall(), columns=[\"customerID\", \"first_name\", \"last_name\"])"
   ]
  },
  {
   "cell_type": "markdown",
   "metadata": {},
   "source": [
    "Plot an example chart"
   ]
  },
  {
   "cell_type": "code",
   "execution_count": null,
   "metadata": {},
   "outputs": [],
   "source": [
    "plt.figure()\n",
    "sns.barplot(data=orders_df, x=\"order_value\", y=\"quantity\")\n",
    "plt.ylabel(\"Units Ordered\")\n",
    "plt.xlabel(\"Order Value\")\n",
    "plt.title(\"Bar Plot Showing Order Value Against Units Ordered\")\n",
    "plt.yticks([0, 1, 2])"
   ]
  }
 ],
 "metadata": {
  "language_info": {
   "name": "python"
  }
 },
 "nbformat": 4,
 "nbformat_minor": 2
}
